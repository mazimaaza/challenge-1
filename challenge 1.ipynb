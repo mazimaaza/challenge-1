{
 "cells": [
  {
   "cell_type": "raw",
   "id": "0d7aa91a",
   "metadata": {},
   "source": [
    "s = \"this is My First Python programming class and i am learNING python string and its function\"\n",
    "\n",
    "1 . Try to extract data from index one to index 300 with a jump of 3\n"
   ]
  },
  {
   "cell_type": "code",
   "execution_count": null,
   "id": "5f1c0a66",
   "metadata": {},
   "outputs": [],
   "source": []
  },
  {
   "cell_type": "raw",
   "id": "940edc29",
   "metadata": {},
   "source": [
    "2. Try to reverse a string without using reverse function "
   ]
  },
  {
   "cell_type": "code",
   "execution_count": 1,
   "id": "0489430e",
   "metadata": {},
   "outputs": [],
   "source": [
    "s = \"maziya\""
   ]
  },
  {
   "cell_type": "code",
   "execution_count": 2,
   "id": "1c477af6",
   "metadata": {},
   "outputs": [
    {
     "data": {
      "text/plain": [
       "'ayizam'"
      ]
     },
     "execution_count": 2,
     "metadata": {},
     "output_type": "execute_result"
    }
   ],
   "source": [
    "s[::-1]"
   ]
  },
  {
   "cell_type": "raw",
   "id": "8f6100db",
   "metadata": {},
   "source": [
    "3. Try to split a string after conversion of entire string in uppercase \n"
   ]
  },
  {
   "cell_type": "code",
   "execution_count": 3,
   "id": "72a894ce",
   "metadata": {},
   "outputs": [
    {
     "data": {
      "text/plain": [
       "'maziya'"
      ]
     },
     "execution_count": 3,
     "metadata": {},
     "output_type": "execute_result"
    }
   ],
   "source": [
    "s"
   ]
  },
  {
   "cell_type": "code",
   "execution_count": 5,
   "id": "9303c3eb",
   "metadata": {},
   "outputs": [
    {
     "data": {
      "text/plain": [
       "'MAZIYA'"
      ]
     },
     "execution_count": 5,
     "metadata": {},
     "output_type": "execute_result"
    }
   ],
   "source": [
    "s.upper()"
   ]
  },
  {
   "cell_type": "code",
   "execution_count": 6,
   "id": "5fbdce0e",
   "metadata": {},
   "outputs": [],
   "source": [
    "s = s.upper()"
   ]
  },
  {
   "cell_type": "code",
   "execution_count": 7,
   "id": "0de9bd6f",
   "metadata": {},
   "outputs": [
    {
     "data": {
      "text/plain": [
       "'MAZIYA'"
      ]
     },
     "execution_count": 7,
     "metadata": {},
     "output_type": "execute_result"
    }
   ],
   "source": [
    "s"
   ]
  },
  {
   "cell_type": "code",
   "execution_count": 12,
   "id": "0574001a",
   "metadata": {},
   "outputs": [
    {
     "data": {
      "text/plain": [
       "['MAZIYA']"
      ]
     },
     "execution_count": 12,
     "metadata": {},
     "output_type": "execute_result"
    }
   ],
   "source": [
    "s.split('a')"
   ]
  },
  {
   "cell_type": "raw",
   "id": "2796ab4d",
   "metadata": {},
   "source": [
    "4. Try to convert the whole string into lower case "
   ]
  },
  {
   "cell_type": "code",
   "execution_count": 14,
   "id": "4a173863",
   "metadata": {},
   "outputs": [],
   "source": [
    "s = \"maziya\""
   ]
  },
  {
   "cell_type": "code",
   "execution_count": 15,
   "id": "7877370e",
   "metadata": {},
   "outputs": [
    {
     "data": {
      "text/plain": [
       "'maziya'"
      ]
     },
     "execution_count": 15,
     "metadata": {},
     "output_type": "execute_result"
    }
   ],
   "source": [
    "s"
   ]
  },
  {
   "cell_type": "code",
   "execution_count": 16,
   "id": "e49cd7a6",
   "metadata": {},
   "outputs": [
    {
     "data": {
      "text/plain": [
       "'maziya'"
      ]
     },
     "execution_count": 16,
     "metadata": {},
     "output_type": "execute_result"
    }
   ],
   "source": [
    "s.lower()"
   ]
  },
  {
   "cell_type": "raw",
   "id": "0f5ad396",
   "metadata": {},
   "source": [
    "5 . Try to capitalize the whole string "
   ]
  },
  {
   "cell_type": "code",
   "execution_count": 17,
   "id": "7ab54687",
   "metadata": {},
   "outputs": [
    {
     "data": {
      "text/plain": [
       "'maziya'"
      ]
     },
     "execution_count": 17,
     "metadata": {},
     "output_type": "execute_result"
    }
   ],
   "source": [
    "s"
   ]
  },
  {
   "cell_type": "code",
   "execution_count": 18,
   "id": "2076715c",
   "metadata": {},
   "outputs": [
    {
     "data": {
      "text/plain": [
       "'Maziya'"
      ]
     },
     "execution_count": 18,
     "metadata": {},
     "output_type": "execute_result"
    }
   ],
   "source": [
    "s.capitalize()"
   ]
  },
  {
   "cell_type": "raw",
   "id": "3f9eddb2",
   "metadata": {},
   "source": [
    "6. Write a diference between isalnum() and isalpha()"
   ]
  },
  {
   "cell_type": "raw",
   "id": "7bddb87c",
   "metadata": {},
   "source": [
    "* isalnum() is a \"or\" condition which implies either alpha or numeric\n",
    "* isalpha() is define as character of a string."
   ]
  },
  {
   "cell_type": "raw",
   "id": "26bdf558",
   "metadata": {},
   "source": [
    "7. Try to give an example of expand tab"
   ]
  },
  {
   "cell_type": "code",
   "execution_count": 19,
   "id": "da4a3a3e",
   "metadata": {},
   "outputs": [],
   "source": [
    "t = \"harry\\tpotter\\tactor\""
   ]
  },
  {
   "cell_type": "code",
   "execution_count": 20,
   "id": "89171fc5",
   "metadata": {},
   "outputs": [
    {
     "data": {
      "text/plain": [
       "'harry   potter  actor'"
      ]
     },
     "execution_count": 20,
     "metadata": {},
     "output_type": "execute_result"
    }
   ],
   "source": [
    "t.expandtabs()"
   ]
  },
  {
   "cell_type": "raw",
   "id": "f7978697",
   "metadata": {},
   "source": [
    "8. Give an example of strip , lstrip and rstrip"
   ]
  },
  {
   "cell_type": "code",
   "execution_count": 26,
   "id": "da9cad9e",
   "metadata": {},
   "outputs": [],
   "source": [
    "v = \"   turtle     \""
   ]
  },
  {
   "cell_type": "code",
   "execution_count": 27,
   "id": "ac15cc1c",
   "metadata": {},
   "outputs": [
    {
     "data": {
      "text/plain": [
       "'   turtle     '"
      ]
     },
     "execution_count": 27,
     "metadata": {},
     "output_type": "execute_result"
    }
   ],
   "source": [
    "v"
   ]
  },
  {
   "cell_type": "code",
   "execution_count": 28,
   "id": "02442804",
   "metadata": {},
   "outputs": [
    {
     "data": {
      "text/plain": [
       "'turtle'"
      ]
     },
     "execution_count": 28,
     "metadata": {},
     "output_type": "execute_result"
    }
   ],
   "source": [
    "v.strip()"
   ]
  },
  {
   "cell_type": "code",
   "execution_count": 29,
   "id": "e76a18d3",
   "metadata": {},
   "outputs": [
    {
     "data": {
      "text/plain": [
       "'turtle     '"
      ]
     },
     "execution_count": 29,
     "metadata": {},
     "output_type": "execute_result"
    }
   ],
   "source": [
    "v.lstrip()"
   ]
  },
  {
   "cell_type": "code",
   "execution_count": 30,
   "id": "664ae076",
   "metadata": {},
   "outputs": [
    {
     "data": {
      "text/plain": [
       "'   turtle'"
      ]
     },
     "execution_count": 30,
     "metadata": {},
     "output_type": "execute_result"
    }
   ],
   "source": [
    "v.rstrip()"
   ]
  },
  {
   "cell_type": "raw",
   "id": "91afc875",
   "metadata": {},
   "source": [
    "9. Replace a string character by another character by taking your own example "
   ]
  },
  {
   "cell_type": "code",
   "execution_count": null,
   "id": "ab075546",
   "metadata": {},
   "outputs": [],
   "source": []
  },
  {
   "cell_type": "raw",
   "id": "64ffe8e0",
   "metadata": {},
   "source": [
    "10. Try to give a definition of string center function with an example"
   ]
  },
  {
   "cell_type": "raw",
   "id": "575ef4ce",
   "metadata": {},
   "source": [
    "string center function is define as to fill the character with the operators."
   ]
  },
  {
   "cell_type": "code",
   "execution_count": 31,
   "id": "66612cf9",
   "metadata": {},
   "outputs": [
    {
     "data": {
      "text/plain": [
       "'maziya'"
      ]
     },
     "execution_count": 31,
     "metadata": {},
     "output_type": "execute_result"
    }
   ],
   "source": [
    "s"
   ]
  },
  {
   "cell_type": "code",
   "execution_count": 32,
   "id": "5a850862",
   "metadata": {},
   "outputs": [
    {
     "data": {
      "text/plain": [
       "'*******maziya*******'"
      ]
     },
     "execution_count": 32,
     "metadata": {},
     "output_type": "execute_result"
    }
   ],
   "source": [
    "s.center(20, \"*\")"
   ]
  },
  {
   "cell_type": "raw",
   "id": "a8fca59d",
   "metadata": {},
   "source": [
    "11 . Write your own definition of compiler and interpretor without copy paste form internet in your own language\n",
    "\n",
    "* compiler - converting programming language to another language\n",
    "* interpretor - execution of a code "
   ]
  },
  {
   "cell_type": "raw",
   "id": "59d2f14e",
   "metadata": {},
   "source": [
    "12 . Python is a interpreted of compiled language give a clear ans with your understanding .\n",
    "\n",
    "Python is a interpreted language because python used to execute the code and it also gives a clear definition of each function."
   ]
  },
  {
   "cell_type": "raw",
   "id": "36b440ea",
   "metadata": {},
   "source": [
    "13. Try to write a usecase of python with your understanding .\n",
    "\n",
    "python uses in different fields\n",
    "Example like web development , game development , software development etc....\n",
    "\n",
    "\n"
   ]
  }
 ],
 "metadata": {
  "kernelspec": {
   "display_name": "Python 3 (ipykernel)",
   "language": "python",
   "name": "python3"
  },
  "language_info": {
   "codemirror_mode": {
    "name": "ipython",
    "version": 3
   },
   "file_extension": ".py",
   "mimetype": "text/x-python",
   "name": "python",
   "nbconvert_exporter": "python",
   "pygments_lexer": "ipython3",
   "version": "3.9.7"
  }
 },
 "nbformat": 4,
 "nbformat_minor": 5
}
